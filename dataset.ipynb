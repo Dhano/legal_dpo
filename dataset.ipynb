{
 "cells": [
  {
   "cell_type": "code",
   "execution_count": 1,
   "metadata": {},
   "outputs": [
    {
     "name": "stdout",
     "output_type": "stream",
     "text": [
      "Number of small precedents:  300\n"
     ]
    }
   ],
   "source": [
    "from utils.genral import get_precedients,get_precedients_triplets,get_precedients_anon,get_metadata\n",
    "from utils.langchain import parser\n",
    "import tqdm\n",
    "import pickle\n",
    "\n",
    "with open('small_precedents_ids.pkl', 'rb') as f:\n",
    "    small_precedents_ids = pickle.load(f)\n",
    "print(\"Number of small precedents: \", len(small_precedents_ids))\n",
    "\n",
    "id2text = get_precedients()\n",
    "good_response_triplet_folder = \"dpo-triplets-annon/all\"\n",
    "bad_response_triplet_folder = \"dpo-triplets/all\""
   ]
  },
  {
   "cell_type": "code",
   "execution_count": 2,
   "metadata": {},
   "outputs": [
    {
     "name": "stderr",
     "output_type": "stream",
     "text": [
      "/home/dhananjay/miniconda3/envs/gnn/lib/python3.9/site-packages/tqdm/auto.py:21: TqdmWarning: IProgress not found. Please update jupyter and ipywidgets. See https://ipywidgets.readthedocs.io/en/stable/user_install.html\n",
      "  from .autonotebook import tqdm as notebook_tqdm\n"
     ]
    }
   ],
   "source": [
    "from transformers import (\n",
    "    AutoTokenizer\n",
    ")\n",
    "\n",
    "base_model = \"google/gemma-7b-it\"\n",
    "\n",
    "tokenizer = AutoTokenizer.from_pretrained(base_model)"
   ]
  },
  {
   "cell_type": "code",
   "execution_count": 3,
   "metadata": {},
   "outputs": [],
   "source": [
    "from utils.langchain import langchain_chat_template,parser\n",
    "from utils.genral import clean_string\n",
    "import json\n",
    "\n",
    "prompts = []\n",
    "chosens=[]\n",
    "rejecteds=[]\n",
    "\n",
    "for id in small_precedents_ids:\n",
    "    \n",
    "\n",
    "    chat_template = langchain_chat_template.format_messages(document=id2text[id])\n",
    "    input_prompt = clean_string( chat_template[0].content + chat_template[1].content ) \n",
    "    chat=[\n",
    "        {\"role\": \"user\", \"content\": input_prompt }\n",
    "    ]\n",
    "    prompt = tokenizer.apply_chat_template(chat, tokenize=False,add_generation_prompt=True)\n",
    "    prompts.append(prompt)\n",
    "    \n",
    "    #GOOD REPSONE\n",
    "    with open(f\"{ good_response_triplet_folder }/{ id }.json\", \"r\") as file:\n",
    "        chosen = json.dumps( json.loads(file.read()) )\n",
    "        chosens.append(chosen)\n",
    "\n",
    "    #BAD REPSONE\n",
    "    with open(f\"{ bad_response_triplet_folder }/{ id }.json\", \"r\") as file:\n",
    "        rejected = json.dumps( json.loads(file.read()) )\n",
    "        rejecteds.append(rejected)\n",
    "    \n"
   ]
  },
  {
   "cell_type": "code",
   "execution_count": 4,
   "metadata": {},
   "outputs": [
    {
     "name": "stderr",
     "output_type": "stream",
     "text": [
      "Saving the dataset (1/1 shards): 100%|██████████| 300/300 [00:00<00:00, 27792.80 examples/s]\n"
     ]
    }
   ],
   "source": [
    "from datasets import Dataset\n",
    "dataset = Dataset.from_dict( {\"prompt\": prompts,\"chosen\": chosens, \"rejected\": rejecteds} )\n",
    "dataset.save_to_disk(\"dataset/dpo\")"
   ]
  },
  {
   "cell_type": "code",
   "execution_count": 5,
   "metadata": {},
   "outputs": [
    {
     "name": "stdout",
     "output_type": "stream",
     "text": [
      "Dataset({\n",
      "    features: ['prompt', 'chosen', 'rejected'],\n",
      "    num_rows: 300\n",
      "})\n",
      "{\"triplets\": [{\"head\": {\"value\": \"Respondents\", \"type\": \"Actor / Player\"}, \"relationship\": \"worked as\", \"tail\": {\"value\": \"Teachers in Department of Education\", \"type\": \"Service\"}}, {\"head\": {\"value\": \"Respondents\", \"type\": \"Actor / Player\"}, \"relationship\": \"availed\", \"tail\": {\"value\": \"Leave Travel Concession\", \"type\": \"Document / Artifact\"}}, {\"head\": {\"value\": \"Respondents\", \"type\": \"Actor / Player\"}, \"relationship\": \"drew amount instead of utilizing\", \"tail\": {\"value\": \"Leave Travel Concession\", \"type\": \"Document / Artifact\"}}, {\"head\": {\"value\": \"Recovery\", \"type\": \"Event\"}, \"relationship\": \"made in\", \"tail\": {\"value\": \"1984-86\", \"type\": \"Event\"}}, {\"head\": {\"value\": \"Respondents\", \"type\": \"Actor / Player\"}, \"relationship\": \"filed applications questioning\", \"tail\": {\"value\": \"Government's power of recovery\", \"type\": \"Event\"}}, {\"head\": {\"value\": \"Tribunal\", \"type\": \"Forums and Venues\"}, \"relationship\": \"allowed claims of\", \"tail\": {\"value\": \"Respondents\", \"type\": \"Actor / Player\"}}, {\"head\": {\"value\": \"Tribunal\", \"type\": \"Forums and Venues\"}, \"relationship\": \"held Government could not recover from\", \"tail\": {\"value\": \"Respondents\", \"type\": \"Actor / Player\"}}, {\"head\": {\"value\": \"Respondents\", \"type\": \"Actor / Player\"}, \"relationship\": \"filed applications to condone delay\", \"tail\": {\"value\": \"August 1989\", \"type\": \"Event\"}}, {\"head\": {\"value\": \"Tribunal\", \"type\": \"Forums and Venues\"}, \"relationship\": \"condoned delay\", \"tail\": {\"value\": \"Impugned order\", \"type\": \"Document / Artifact\"}}, {\"head\": {\"value\": \"Appellant-Government\", \"type\": \"Actor / Player\"}, \"relationship\": \"contended Tribunal has no power to condone delay\", \"tail\": {\"value\": \"If respondents did not explain delay\", \"type\": \"Event\"}}, {\"head\": {\"value\": \"Court\", \"type\": \"Forums and Venues\"}, \"relationship\": \"held need for explanation of delay after expiry of prescribed period\", \"tail\": {\"value\": \"Respondents\", \"type\": \"Actor / Player\"}}, {\"head\": {\"value\": \"Court\", \"type\": \"Forums and Venues\"}, \"relationship\": \"set aside\", \"tail\": {\"value\": \"Order of Tribunal\", \"type\": \"Document / Artifact\"}}, {\"head\": {\"value\": \"No order as to costs\", \"type\": \"Status\"}, \"relationship\": \"\", \"tail\": {\"value\": \"\", \"type\": \"\"}}]}\n",
      "{\"triplets\": [{\"head\": {\"value\": \"State of Karnataka & Ors\", \"type\": \"Actor / Player\"}, \"relationship\": \"Vs.\", \"tail\": {\"value\": \"S.M. Kotrayya & Ors\", \"type\": \"Actor / Player\"}}, {\"head\": {\"value\": \"Karnataka Administrative Tribunal\", \"type\": \"Forums and Venues\"}, \"relationship\": \"made order on\", \"tail\": {\"value\": \"August 14, 1989\", \"type\": \"Event\"}}, {\"head\": {\"value\": \"Respondents\", \"type\": \"Actor / Player\"}, \"relationship\": \"availed\", \"tail\": {\"value\": \"Leave Travel Concession\", \"type\": \"Service\"}}, {\"head\": {\"value\": \"Respondents\", \"type\": \"Actor / Player\"}, \"relationship\": \"drew\", \"tail\": {\"value\": \"Amount instead of benefit\", \"type\": \"Event\"}}, {\"head\": {\"value\": \"Recovery\", \"type\": \"Event\"}, \"relationship\": \"made\", \"tail\": {\"value\": \"in 1984-86\", \"type\": \"Event\"}}, {\"head\": {\"value\": \"Respondents\", \"type\": \"Actor / Player\"}, \"relationship\": \"filed applications\", \"tail\": {\"value\": \"in Tribunal\", \"type\": \"Forums and Venues\"}}, {\"head\": {\"value\": \"Tribunal\", \"type\": \"Forums and Venues\"}, \"relationship\": \"allowed similar claims\", \"tail\": {\"value\": \"held Government could not recover\", \"type\": \"Event\"}}, {\"head\": {\"value\": \"Respondents\", \"type\": \"Actor / Player\"}, \"relationship\": \"filed applications to condone delay\", \"tail\": {\"value\": \"August 1989\", \"type\": \"Event\"}}, {\"head\": {\"value\": \"Tribunal\", \"type\": \"Forums and Venues\"}, \"relationship\": \"condoned delay\", \"tail\": {\"value\": \"based on judgment\", \"type\": \"Legal Authorities\"}}, {\"head\": {\"value\": \"Appellant-Government\", \"type\": \"Actor / Player\"}, \"relationship\": \"contended\", \"tail\": {\"value\": \"Tribunal had no power to condone delay\", \"type\": \"Argument\"}}, {\"head\": {\"value\": \"Section 21\", \"type\": \"Legal Authorities\"}, \"relationship\": \"defines limitation for\", \"tail\": {\"value\": \"Tribunal\", \"type\": \"Forums and Venues\"}}, {\"head\": {\"value\": \"Tribunal\", \"type\": \"Forums and Venues\"}, \"relationship\": \"requires explanation for delay\", \"tail\": {\"value\": \"after expiry of period\", \"type\": \"Event\"}}, {\"head\": {\"value\": \"Respondents\", \"type\": \"Actor / Player\"}, \"relationship\": \"explained\", \"tail\": {\"value\": \"delay due to knowledge of Tribunal order\", \"type\": \"Event\"}}, {\"head\": {\"value\": \"Appeals\", \"type\": \"Event\"}, \"relationship\": \"are allowed\", \"tail\": {\"value\": \"order of Tribunal is set aside\", \"type\": \"Event\"}}]}\n"
     ]
    }
   ],
   "source": [
    "from datasets import Dataset\n",
    "dataset = Dataset.load_from_disk(\"dataset/dpo\")\n",
    "print(dataset)\n",
    "print(dataset[1][\"chosen\"])\n",
    "print(dataset[1][\"rejected\"])"
   ]
  }
 ],
 "metadata": {
  "kernelspec": {
   "display_name": "gnn",
   "language": "python",
   "name": "python3"
  },
  "language_info": {
   "codemirror_mode": {
    "name": "ipython",
    "version": 3
   },
   "file_extension": ".py",
   "mimetype": "text/x-python",
   "name": "python",
   "nbconvert_exporter": "python",
   "pygments_lexer": "ipython3",
   "version": "3.9.18"
  }
 },
 "nbformat": 4,
 "nbformat_minor": 2
}
